{
 "cells": [
  {
   "cell_type": "code",
   "execution_count": 38,
   "metadata": {},
   "outputs": [
    {
     "name": "stdout",
     "output_type": "stream",
     "text": [
      "<re.Match object; span=(0, 6), match='welcme'>\n",
      "Match found <re.Match object; span=(0, 6), match='welcme'>\n",
      "['CNRB0000574', 'SBIN0013133'] ['1234567890', '6914854859', 'CNRB000057', 'SBIN001313']\n"
     ]
    }
   ],
   "source": [
    "import re\n",
    " \n",
    "pattern_object=re.compile('[a-z]+',re.IGNORECASE)\n",
    "#re.compile() function is used to compile a regular expression pattern into a pattern object, which can  be used for matching using its match(), search(), and findall() methods.\n",
    " \n",
    "#print(pattern_object)\n",
    " \n",
    "data=\"Welcmoe home buddy\"\n",
    " \n",
    "#m=pattern_object.findall(data)\n",
    "print(m)\n",
    "if m:\n",
    "    print(\"Match found\",m)\n",
    "else:\n",
    "    print(\"No match found\")\n",
    " \n",
    "c=re.findall('[a-z]+',data,re.IGNORECASE)\n",
    " \n",
    "# writing raw Data of persons include nams, ph no, email,pan\n",
    "raw_data=\"Suryachandra  1234567890 6914854859 surya@gmail.com ABCDEFGHIJ CNRB0000574 SBIN0013133\"\n",
    " \n",
    "mobile_number=re.findall('\\d{10}',raw_data,re.IGNORECASE)\n",
    "ifsc=re.findall('\\S{4}\\d{7}',raw_data)\n",
    "pan=re.findall('\\S{5}\\d{4}\\S{1}',raw_data)\n",
    "#print(mobile_number)\n",
    "print(ifsc,pan)\n"
   ]
  },
  {
   "cell_type": "code",
   "execution_count": 21,
   "metadata": {},
   "outputs": [
    {
     "name": "stdout",
     "output_type": "stream",
     "text": [
      "['welcme', 'to', 'regular', 'expression']\n",
      "['welcme', 'to', 'regular', 'expression']\n"
     ]
    }
   ],
   "source": [
    "m1=pattern_object.findall(data)\n",
    "print(m1)\n",
    "\n",
    "m2=re.findall('[a-z]+',data,re.IGNORECASE)\n",
    "print(m2)"
   ]
  },
  {
   "cell_type": "code",
   "execution_count": 31,
   "metadata": {},
   "outputs": [
    {
     "name": "stdout",
     "output_type": "stream",
     "text": [
      "my name is jahnavi and my email id is jahnavi.bh@se.com \n",
      "Mobile is 98562471268 and address is jakkur bangalore and pincode is 560064 and PAN number is jgj7999887 and my other number is 56877778787 and address is BGRT whitefield mumbai.\n"
     ]
    }
   ],
   "source": [
    "raw_data='''my name is jahnavi and my email id is jahnavi.bh@se.com \n",
    "Mobile is 98562471268 and address is jakkur bangalore and pincode is 560064 and PAN number is jgj7999887 and my other number is 56877778787 and address is BGRT whitefield mumbai.'''\n",
    "\n",
    "with open('mypersonal.txt','w') as file:\n",
    "    file.write(raw_data)#write data to file\n",
    "with open('mypersonal.txt','r') as file:\n",
    "    data=file.read()#read data from file\n",
    "    print(data)"
   ]
  },
  {
   "cell_type": "code",
   "execution_count": 8,
   "metadata": {},
   "outputs": [
    {
     "name": "stdout",
     "output_type": "stream",
     "text": [
      "It's Audi Car Audi Car\n",
      "Audi Car\n"
     ]
    }
   ],
   "source": [
    "class CarApp:\n",
    "    '''Car application for customer'''\n",
    "\n",
    "    def __init__(self,name): \n",
    "        '''Intialization of CarApp 'class'''\n",
    "        self.name=name #object variable\n",
    "        print(\"Car Name:name\")\n",
    "        \n",
    "        pass\n",
    "\n",
    "    def info(self, cname):\n",
    "        '''car information method'''\n",
    "        self.cname = cname #object /instance variable\n",
    "        print(\"It's Audi Car\", cname)\n",
    "\n",
    "AudiCar = CarApp()\n",
    "AudiCar.info(\"Audi Car\")\n",
    "print(AudiCar.cname)"
   ]
  },
  {
   "cell_type": "code",
   "execution_count": 37,
   "metadata": {},
   "outputs": [
    {
     "name": "stdout",
     "output_type": "stream",
     "text": [
      "re.compile('[a-z]+', re.IGNORECASE)\n",
      "match found welcme\n",
      "match start 0\n",
      "match end 6\n",
      "match span (0, 6)\n"
     ]
    }
   ],
   "source": [
    "import re\n",
    "#help(re.match)\n",
    "\n",
    "pattern_object = re.compile('[a-z]+',re.IGNORECASE)\n",
    "print(pattern_object)\n",
    "data=\"welcme to regular expression\"\n",
    "m= pattern_object.match(data)\n",
    "if m:\n",
    "    print(\"match found\",m.group())\n",
    "    print(\"match start\",m.start())\n",
    "    print(\"match end\",m.end())\n",
    "    print(\"match span\",m.span())\n",
    "else:\n",
    "    print(\"Match not found\")"
   ]
  },
  {
   "cell_type": "code",
   "execution_count": 46,
   "metadata": {},
   "outputs": [
    {
     "name": "stdout",
     "output_type": "stream",
     "text": [
      "My name is Jahnavi and Email is jahnavi.bh@se.com\n",
      "Mobile is 9964073327 and Address is Bangalore jahnavi.bh@gmail.com\n",
      "Account Number is 1234567890 and IFSC Code is HDFC1234 and PAN Number is AZBPG1110G\n",
      "another Mobile number is 9448409640 and address is Udupi, another mobile number is\n",
      "99986111353 and address is Udupi and IFSC Code is IFSD5678 and IP Address is 192.245.200.100\n"
     ]
    }
   ],
   "source": [
    "raw_data = '''My name is Jahnavi and Email is jahnavi.bh@se.com\n",
    "Mobile is 9964073327 and Address is Bangalore jahnavi.bh@gmail.com\n",
    "Account Number is 1234567890 and IFSC Code is HDFC1234 and PAN Number is AZBPG1110G\n",
    "another Mobile number is 9448409640 and address is Udupi, another mobile number is\n",
    "99986111353 and address is Udupi and IFSC Code is IFSD5678 and IP Address is 192.245.200.100'''\n",
    " \n",
    "with open('mypersonal.txt', 'w') as file:\n",
    "    file.write(raw_data) #write data to file\n",
    "   \n",
    "   \n",
    "with open('mypersonal.txt','r') as file:\n",
    "    data = file.read() #read data from file\n",
    "   \n",
    "print(data)"
   ]
  },
  {
   "cell_type": "code",
   "execution_count": 47,
   "metadata": {},
   "outputs": [
    {
     "name": "stdout",
     "output_type": "stream",
     "text": [
      "['9964073327', '1234567890', '9448409640', '9998611135']\n",
      "['HDFC1234', 'IFSD5678']\n",
      "['AZBPG1110G']\n",
      "['jahnavi.bh@se.com', 'jahnavi.bh@gmail.com']\n",
      "['jahnavi.bh@se.com', 'jahnavi.bh@gmail.com']\n",
      "['192.245.200.100']\n"
     ]
    }
   ],
   "source": [
    "\n",
    "with open('mypersonal.txt','r') as file:\n",
    "    data = file.read() #read data from file\n",
    " \n",
    "    mobile_data = re.findall(r'\\d{10}', data)\n",
    "    print(mobile_data)\n",
    "    ifsc_data = re.findall(r'\\b[A-Z]{4}\\d{4}\\b', data)\n",
    "    print(ifsc_data)\n",
    "    pan_data = re.findall(r'[A-Z]{5}\\d{4}[A-Z]',data)\n",
    "    print(pan_data)\n",
    "    email_data = re.findall(r'\\b[A-Za-z0-9._%+-]+@[A-Za-z0-9.-]+\\.[A-Z|a-z]{2,}\\b',data)\n",
    "    print(email_data)\n",
    "    email_data1 = re.findall(r'\\b[\\w._]+@[\\w]+\\.[\\w]{2,}\\b',data)\n",
    "    print(email_data1)\n",
    "    ip_address = re.findall(r'\\d{0,3}\\.\\d{0,3}\\.\\d{0,3}\\.\\d{0,3}',data)\n",
    "    print(ip_address)"
   ]
  },
  {
   "cell_type": "code",
   "execution_count": 55,
   "metadata": {},
   "outputs": [
    {
     "name": "stdout",
     "output_type": "stream",
     "text": [
      "['9964073327', '1234567890', '9448409640', '9998611135']\n",
      "{'jahnavi': '9964073327', 'Sanvi': '9964073327', 'ganavi': '9964073327', 'Tanvi': '9964073327'}\n",
      "dict_keys(['jahnavi', 'Sanvi', 'ganavi', 'Tanvi'])\n",
      "dict_values(['9964073327', '9964073327', '9964073327', '9964073327'])\n",
      "0    9964073327\n",
      "1    1234567890\n",
      "2    9448409640\n",
      "3    9998611135\n",
      "Name: Mobile Number, dtype: object\n",
      "{'jahnavi': '9964073327', 'Sanvi': '9964073327', 'ganavi': '9964073327', 'Tanvi': '9964073327'}\n"
     ]
    }
   ],
   "source": [
    "import pandas as pd\n",
    "mobile_series=pd.Series(mobile_data,name='Mobile Number')\n",
    "#print(mobile_series)\n",
    "\n",
    "print(mobile_data)\n",
    "mobile_dict={}\n",
    "\n",
    "mobile_dict['jahnavi']=mobile_data[0]\n",
    "mobile_dict['Sanvi']=mobile_data[0]\n",
    "mobile_dict['ganavi']=mobile_data[0]\n",
    "mobile_dict['Tanvi']=mobile_data[0]\n",
    "print(mobile_dict)\n",
    "print(mobile_dict.keys())\n",
    "print(mobile_dict.values())\n",
    "mobile_series1=pd.Series(mobile_dict)\n",
    "print(mobile_series)\n",
    "print(mobile_dict)"
   ]
  },
  {
   "cell_type": "code",
   "execution_count": 58,
   "metadata": {},
   "outputs": [
    {
     "name": "stdout",
     "output_type": "stream",
     "text": [
      "      Name Mobile Number\n",
      "0  jahnavi    9964073327\n",
      "1    Sanvi    9964073327\n",
      "2   ganavi    9964073327\n",
      "3    Tanvi    9964073327\n",
      "0    jahnavi\n",
      "1      Sanvi\n",
      "2     ganavi\n",
      "3      Tanvi\n",
      "Name: Name, dtype: object\n",
      "0    9964073327\n",
      "1    9964073327\n",
      "2    9964073327\n",
      "3    9964073327\n",
      "Name: Mobile Number, dtype: object\n",
      "(4, 2)\n",
      "2\n",
      "      Name  Mobile Number\n",
      "0  jahnavi     9964073327\n",
      "1    Sanvi     9964073327\n",
      "2   ganavi     9964073327\n",
      "3    Tanvi     9964073327\n"
     ]
    }
   ],
   "source": [
    "mobile_dataframe=pd.DataFrame(mobile_dict.items(),columns=['Name','Mobile Number'])\n",
    "print(mobile_dataframe)\n",
    "print(mobile_dataframe['Name'])\n",
    "print(mobile_dataframe['Mobile Number'])\n",
    "print(mobile_dataframe.shape)\n",
    "print(mobile_dataframe.ndim)\n",
    "mobile_dataframe.to_csv('mobile.csv',index=False) #write data to csv file\n",
    "mobile_dataframe1=pd.read_csv('mobile.csv') #read data from csv file\n",
    "print(mobile_dataframe1)"
   ]
  }
 ],
 "metadata": {
  "kernelspec": {
   "display_name": ".exe",
   "language": "python",
   "name": "python3"
  },
  "language_info": {
   "codemirror_mode": {
    "name": "ipython",
    "version": 3
   },
   "file_extension": ".py",
   "mimetype": "text/x-python",
   "name": "python",
   "nbconvert_exporter": "python",
   "pygments_lexer": "ipython3",
   "version": "3.11.0"
  }
 },
 "nbformat": 4,
 "nbformat_minor": 2
}
